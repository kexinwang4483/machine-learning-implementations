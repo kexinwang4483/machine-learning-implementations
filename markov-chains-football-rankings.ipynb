{
 "cells": [
  {
   "cell_type": "markdown",
   "metadata": {},
   "source": [
    "# Implementing a Markov Chain for Predictive Ranking\n",
    "In this problem, we use Markov chains to rank $763$ college football teams based on the scores of every game in the $2017$ season."
   ]
  },
  {
   "cell_type": "code",
   "execution_count": 6,
   "metadata": {
    "ExecuteTime": {
     "end_time": "2018-04-20T06:23:55.314179Z",
     "start_time": "2018-04-20T06:23:55.283917Z"
    },
    "collapsed": true
   },
   "outputs": [],
   "source": [
    "import numpy as np\n",
    "import pandas as pd\n",
    "import matplotlib.pyplot as plt\n",
    "import seaborn as sns\n",
    "\n",
    "from matplotlib import rcParams\n",
    "\n",
    "rcParams['font.family'] = 'serif'\n",
    "rcParams['font.serif'] = 'times new roman'\n",
    "\n",
    "%config InlineBackend.figure_format = 'retina'\n",
    "%matplotlib inline"
   ]
  },
  {
   "cell_type": "markdown",
   "metadata": {},
   "source": [
    "# The Data\n",
    "The data is a text file containing $4200$ games, with one game per line in the format:\n",
    "```\n",
    "Team A index, Team A points, Team B index, Team B points\n",
    "```\n",
    "There are a total of $763$ unique teams."
   ]
  },
  {
   "cell_type": "code",
   "execution_count": 7,
   "metadata": {
    "ExecuteTime": {
     "end_time": "2018-04-20T06:23:56.454426Z",
     "start_time": "2018-04-20T06:23:56.424348Z"
    }
   },
   "outputs": [
    {
     "name": "stdout",
     "output_type": "stream",
     "text": [
      "Number of games: 4200\n"
     ]
    },
    {
     "data": {
      "text/html": [
       "<div>\n",
       "<style>\n",
       "    .dataframe thead tr:only-child th {\n",
       "        text-align: right;\n",
       "    }\n",
       "\n",
       "    .dataframe thead th {\n",
       "        text-align: left;\n",
       "    }\n",
       "\n",
       "    .dataframe tbody tr th {\n",
       "        vertical-align: top;\n",
       "    }\n",
       "</style>\n",
       "<table border=\"1\" class=\"dataframe\">\n",
       "  <thead>\n",
       "    <tr style=\"text-align: right;\">\n",
       "      <th></th>\n",
       "      <th>team_a</th>\n",
       "      <th>points_a</th>\n",
       "      <th>team_b</th>\n",
       "      <th>points_b</th>\n",
       "    </tr>\n",
       "  </thead>\n",
       "  <tbody>\n",
       "    <tr>\n",
       "      <th>3688</th>\n",
       "      <td>57</td>\n",
       "      <td>45</td>\n",
       "      <td>403</td>\n",
       "      <td>14</td>\n",
       "    </tr>\n",
       "    <tr>\n",
       "      <th>312</th>\n",
       "      <td>449</td>\n",
       "      <td>31</td>\n",
       "      <td>563</td>\n",
       "      <td>20</td>\n",
       "    </tr>\n",
       "    <tr>\n",
       "      <th>1184</th>\n",
       "      <td>641</td>\n",
       "      <td>27</td>\n",
       "      <td>276</td>\n",
       "      <td>24</td>\n",
       "    </tr>\n",
       "    <tr>\n",
       "      <th>731</th>\n",
       "      <td>536</td>\n",
       "      <td>7</td>\n",
       "      <td>2</td>\n",
       "      <td>62</td>\n",
       "    </tr>\n",
       "    <tr>\n",
       "      <th>131</th>\n",
       "      <td>435</td>\n",
       "      <td>12</td>\n",
       "      <td>663</td>\n",
       "      <td>10</td>\n",
       "    </tr>\n",
       "  </tbody>\n",
       "</table>\n",
       "</div>"
      ],
      "text/plain": [
       "      team_a  points_a  team_b  points_b\n",
       "3688      57        45     403        14\n",
       "312      449        31     563        20\n",
       "1184     641        27     276        24\n",
       "731      536         7       2        62\n",
       "131      435        12     663        10"
      ]
     },
     "execution_count": 7,
     "metadata": {},
     "output_type": "execute_result"
    }
   ],
   "source": [
    "with open('data/team-names.txt', 'rt') as f:\n",
    "    teams = f.readlines()\n",
    "    teams = [team.strip() for team in teams]\n",
    "    \n",
    "\n",
    "scores = pd.read_csv('data/cfb2017-scores.csv', header=None)\n",
    "scores.columns = ['team_a', 'points_a', 'team_b', 'points_b']\n",
    "\n",
    "# subtract 1 off every single index so indices begin at 0\n",
    "scores.team_a = scores.team_a - 1\n",
    "scores.team_b = scores.team_b - 1\n",
    "\n",
    "print('Number of games: {}'.format(len(scores)))\n",
    "scores.sample(5)"
   ]
  },
  {
   "cell_type": "markdown",
   "metadata": {},
   "source": [
    "# Markov Chains\n",
    "A discrete Markov chain is a sequence of random values $s_1, s_2, s_3, ...$ where the discrete probability distribution of $s_t$ depends only on the state of $s_{t-1}$. That is:\n",
    "\n",
    "$$p(s_t \\mid s_1, s_2, ..., s_{t-1}) = p(s_t \\mid s_{t-1})$$\n",
    "\n",
    "Because each $s \\in \\{1, ..., S\\}$ can take on only $S$ possible states, the relationship between $s_t$ and $s_{t-1}$ can be encoded in an $S \\times S$ transition matrix $M$ where each row of $M$ is a probability vector (i.e. sums to $1$), and:\n",
    "\n",
    "$$p(s_t = j \\mid s_{t-1} = i) = M_{ij}$$\n",
    "\n",
    "Imagine at step $t$ that we have a probability distribution on which state $s_t$ is in, $p(s_t = i)$. Then:\n",
    "\n",
    "$$p(s_{t+1} = j) = \\sum_{i=1}^{S}p(s_{t+1}=j, s_t = i) = \\sum_{i=1}^{S}p(s_{t+1} = j \\mid s_{t} = i)p(s_t = i)$$\n",
    "\n",
    "We can represent the distribution of $s_t$ as a row vector $w_t$ such that $p(s_t = j) = w_t(j)$. Then the above can be vectorized:\n",
    "\n",
    "$$w_t = w_{t-1}M$$.\n",
    "\n",
    "Which is a recurrence relation that can be unrolled into:\n",
    "\n",
    "$$w_t = w_0M^t$$\n",
    "\n",
    "It can be shown that if $M$ satisfies the property that all states are eventually reachable from any other state and $s_1, s_2, s_3, ...$ does not form a cyclical pattern, then $w_{\\infty} = w_{\\infty}M$. This stationary distribution, $w_{\\infty}$, is what we will use to rank the teams."
   ]
  },
  {
   "cell_type": "markdown",
   "metadata": {},
   "source": [
    "# Building the Transition Matrix $M$\n",
    "In using Markov chains to rank college football teams, we are not actually considering the sequence in which the games were played. Rather, we think of each of the $763$ teams as a possible state for $s_t$ and encode for each team a notion that if team $i$ is very good and $s_t = i$, then $s_{t+1} = i$ is highly probable. We can further extend this so that if team $j$ loses frequently or badly to team $i$, then if $s_{t} = j$, $s_{t+1} = i$ is also relatively probable. We can crudely think of the distribution of states for $s_t$ as the amount of **awesomeness** each team has at time $t$ and the distribution at $s_{\\infty}$ to be the stable distribution of awesomeness after which the distribution will no longer change.\n",
    "\n",
    "We want to construct a Markov chain that encourages flows of awesomeness from teams that lose to teams that win. One specific approach could be the following:\n",
    "- Flows only occur between teams that play each other\n",
    "- If Team A beats Team B, there should be a high amount of awesomeness flowing from B to A and a low amount flowing from A to B\n",
    "\n",
    "More concretely, if we let $\\hat{M}$ be a $763 \\times 763$ matrix of zeros, $i$ be the index of Team A, and $j$ be the index of Team B, we can encode the notion above this way:\n",
    "- $\\hat{M}_{ii} \\leftarrow \\hat{M}_{ii} + \\mathbb{1}\\{\\text{Team A wins}\\} + \\frac{\\text{points}_i}{\\text{points}_i + \\text{points}_j}$\n",
    "- $\\hat{M}_{jj} \\leftarrow \\hat{M}_{jj} + \\mathbb{1}\\{\\text{Team B wins}\\} + \\frac{\\text{points}_j}{\\text{points}_i + \\text{points}_j}$\n",
    "- $\\hat{M}_{ij} \\leftarrow \\hat{M}_{ij} + \\mathbb{1}\\{\\text{Team B wins}\\} + \\frac{\\text{points}_j}{\\text{points}_i + \\text{points}_j}$\n",
    "- $\\hat{M}_{ji} \\leftarrow \\hat{M}_{ji} + \\mathbb{1}\\{\\text{Team A wins}\\} + \\frac{\\text{points}_i}{\\text{points}_i + \\text{points}_j}$\n",
    "\n",
    "To build the final transition matrix $M$, we simply normalize the rows of $\\hat{M}$ so that each row is a valid probability vector."
   ]
  },
  {
   "cell_type": "code",
   "execution_count": 8,
   "metadata": {
    "ExecuteTime": {
     "end_time": "2018-04-20T06:23:59.728912Z",
     "start_time": "2018-04-20T06:23:59.369409Z"
    },
    "collapsed": true
   },
   "outputs": [],
   "source": [
    "num_teams = scores.team_a.nunique()\n",
    "M = np.zeros([num_teams, num_teams])\n",
    "for index, row in scores.iterrows():\n",
    "    i = row['team_a']\n",
    "    j = row['team_b']\n",
    "    a = row['points_a']\n",
    "    b = row['points_b']\n",
    "    M[i][i] += (a > b) + a / (a + b)\n",
    "    M[j][j] += (a < b) + b / (a + b)\n",
    "    M[i][j] += (a < b) + b / (a + b)\n",
    "    M[j][i] += (a > b) + a / (a + b)\n",
    "    \n",
    "# normalize each row to sum to 1\n",
    "M = M / np.sum(M, axis=1, keepdims=True)"
   ]
  },
  {
   "cell_type": "markdown",
   "metadata": {},
   "source": [
    "# Ranking Teams Iteratively\n",
    "Let $w_t$ be a row vector representing the distribution of awesomeness at time $t$. Then $w_t = w_{t-1}M \\implies w_t = w_0M^t$. We initially set all teams to be equally awesome, so $w_0$ is the uniform distribution. For $t = 10, 100, 1000, 10000$, we rank the teams by sorting in decreasing value according to $w_t$ and displaying the top 25 teams."
   ]
  },
  {
   "cell_type": "code",
   "execution_count": 9,
   "metadata": {
    "ExecuteTime": {
     "end_time": "2018-04-20T06:24:02.791355Z",
     "start_time": "2018-04-20T06:24:02.309261Z"
    },
    "scrolled": false
   },
   "outputs": [
    {
     "name": "stdout",
     "output_type": "stream",
     "text": [
      "============  t=10  ============\n",
      "                  team     proba\n",
      "436         MountUnion  0.018356\n",
      "371  MaryHardin-Baylor  0.012997\n",
      "600        StFrancisIN  0.011045\n",
      "670         UW-Oshkosh  0.009959\n",
      "622      TAMU-Commerce  0.009295\n",
      "84         BrockportSt  0.009169\n",
      "466      NorthDakotaSt  0.009008\n",
      "5              Alabama  0.008994\n",
      "433        Morningside  0.008794\n",
      "241            Georgia  0.008380\n",
      "301       JamesMadison  0.008076\n",
      "174     DelawareValley  0.007939\n",
      "704           Wartburg  0.007579\n",
      "291          IndianaPA  0.007222\n",
      "134            Clemson  0.007081\n",
      "402     MinnSt-Mankato  0.006955\n",
      "111     CentralFlorida  0.006753\n",
      "490          OhioState  0.006671\n",
      "754          Wisconsin  0.006636\n",
      "527          Reinhardt  0.006580\n",
      "609           StThomas  0.006016\n",
      "493           Oklahoma  0.005948\n",
      "232        FrostburgSt  0.005506\n",
      "35             Ashland  0.005368\n",
      "36          Assumption  0.005324\n",
      "\n",
      "\n",
      "===========  t=100  ============\n",
      "                   team     proba\n",
      "436          MountUnion  0.065705\n",
      "5               Alabama  0.022963\n",
      "241             Georgia  0.019237\n",
      "670          UW-Oshkosh  0.017905\n",
      "490           OhioState  0.014859\n",
      "134             Clemson  0.014719\n",
      "493            Oklahoma  0.014205\n",
      "754           Wisconsin  0.013756\n",
      "111      CentralFlorida  0.013051\n",
      "371   MaryHardin-Baylor  0.012609\n",
      "622       TAMU-Commerce  0.012499\n",
      "37               Auburn  0.011959\n",
      "600         StFrancisIN  0.011094\n",
      "507           PennState  0.010702\n",
      "84          BrockportSt  0.009478\n",
      "483           NotreDame  0.008179\n",
      "174      DelawareValley  0.007976\n",
      "466       NorthDakotaSt  0.007953\n",
      "232         FrostburgSt  0.007861\n",
      "624                 TCU  0.007818\n",
      "402      MinnSt-Mankato  0.007645\n",
      "105  CaseWesternReserve  0.007156\n",
      "303         JohnCarroll  0.006855\n",
      "388             MiamiFL  0.006546\n",
      "263             Harding  0.006452\n",
      "\n",
      "\n",
      "===========  t=1000  ===========\n",
      "               team     proba\n",
      "5           Alabama  0.042282\n",
      "241         Georgia  0.034923\n",
      "436      MountUnion  0.034024\n",
      "490       OhioState  0.027731\n",
      "134         Clemson  0.026894\n",
      "493        Oklahoma  0.026177\n",
      "754       Wisconsin  0.025686\n",
      "111  CentralFlorida  0.023846\n",
      "37           Auburn  0.021933\n",
      "507       PennState  0.019862\n",
      "483       NotreDame  0.014938\n",
      "624             TCU  0.014247\n",
      "388         MiamiFL  0.011903\n",
      "391      MichiganSt  0.011772\n",
      "495      OklahomaSt  0.011289\n",
      "294            Iowa  0.010674\n",
      "477    Northwestern  0.010334\n",
      "295          IowaSt  0.010248\n",
      "323             LSU  0.009573\n",
      "466   NorthDakotaSt  0.009492\n",
      "582     SouthernCal  0.009478\n",
      "707      Washington  0.009285\n",
      "670      UW-Oshkosh  0.009237\n",
      "612        Stanford  0.008742\n",
      "412   MississippiSt  0.008541\n",
      "\n",
      "\n",
      "==========  t=10000  ===========\n",
      "                team     proba\n",
      "5            Alabama  0.051114\n",
      "241          Georgia  0.042176\n",
      "490        OhioState  0.033563\n",
      "134          Clemson  0.032494\n",
      "493         Oklahoma  0.031654\n",
      "754        Wisconsin  0.031090\n",
      "111   CentralFlorida  0.028810\n",
      "37            Auburn  0.026506\n",
      "507        PennState  0.024029\n",
      "483        NotreDame  0.018050\n",
      "624              TCU  0.017212\n",
      "388          MiamiFL  0.014377\n",
      "391       MichiganSt  0.014240\n",
      "495       OklahomaSt  0.013636\n",
      "294             Iowa  0.012913\n",
      "477     Northwestern  0.012505\n",
      "295           IowaSt  0.012370\n",
      "323              LSU  0.011565\n",
      "582      SouthernCal  0.011439\n",
      "707       Washington  0.011191\n",
      "466    NorthDakotaSt  0.010939\n",
      "612         Stanford  0.010549\n",
      "412    MississippiSt  0.010317\n",
      "693     VirginiaTech  0.010060\n",
      "462  NorthCarolinaSt  0.009595\n",
      "\n",
      "\n"
     ]
    }
   ],
   "source": [
    "w_0 = np.ones(num_teams).reshape(1, -1) / num_teams\n",
    "for t in [10, 100, 1000, 10000]:\n",
    "    M_t = np.linalg.matrix_power(M, t)\n",
    "    w_t = w_0.dot(M_t)\n",
    "    \n",
    "    df = pd.DataFrame(dict(team=teams, proba=w_t.squeeze()))\n",
    "    print('{:=^32}'.format('  t={}  '.format(t)))\n",
    "    print(df[['team', 'proba']] \\\n",
    "          .sort_values(by = 'proba', ascending=False) \\\n",
    "          .head(25))\n",
    "    print()\n",
    "    print()"
   ]
  },
  {
   "cell_type": "markdown",
   "metadata": {},
   "source": [
    "# Calculating the Stationary Distribution "
   ]
  },
  {
   "cell_type": "markdown",
   "metadata": {},
   "source": [
    "Given that $M$ satisfies certain properties, $w_{\\infty} = w_{\\infty}M$. This implies that $M^Tw_{\\infty}^T = w_{\\infty}^T$, or equivalently $w_{\\infty}^T$ is an eigenvector of $M^T$ corresponding to eigenvalue $\\lambda = 1$. This property can then be used to quickly calculate the stationary distribution $w_{\\infty}$."
   ]
  },
  {
   "cell_type": "code",
   "execution_count": 10,
   "metadata": {
    "ExecuteTime": {
     "end_time": "2018-04-20T06:24:07.046625Z",
     "start_time": "2018-04-20T06:24:06.572586Z"
    }
   },
   "outputs": [
    {
     "name": "stderr",
     "output_type": "stream",
     "text": [
      "/Users/derekzhao/anaconda3/envs/python-36/lib/python3.6/site-packages/ipykernel_launcher.py:4: ComplexWarning: Casting complex values to real discards the imaginary part\n",
      "  after removing the cwd from sys.path.\n"
     ]
    }
   ],
   "source": [
    "eigenvalues, eigenvectors = np.linalg.eig(M.T)\n",
    "\n",
    "# select eigenvector corresponding to eigenvalue of 1\n",
    "w_inf = eigenvectors[:,np.argmax(eigenvalues)].astype(float)\n",
    "\n",
    "# normalize entries to create valid probability vector\n",
    "w_inf = w_inf / w_inf.sum()"
   ]
  },
  {
   "cell_type": "code",
   "execution_count": 11,
   "metadata": {
    "ExecuteTime": {
     "end_time": "2018-04-20T06:25:31.226826Z",
     "start_time": "2018-04-20T06:24:08.007711Z"
    },
    "collapsed": true,
    "run_control": {
     "marked": true
    }
   },
   "outputs": [],
   "source": [
    "M_t = M.copy()\n",
    "l1_list = list()\n",
    "t_range = range(1, 10001)\n",
    "for t in t_range:\n",
    "    w_t = w_0.dot(M_t)\n",
    "    M_t = M_t.dot(M)\n",
    "    l1_list.append(np.abs(w_t - w_10000).sum())"
   ]
  },
  {
   "cell_type": "markdown",
   "metadata": {},
   "source": [
    "Below, we plot $\\left\\|w_t - w_{\\infty}\\right\\|_1$ for $t = 1, ..., 10000$ to show this convergence property."
   ]
  },
  {
   "cell_type": "code",
   "execution_count": 12,
   "metadata": {
    "ExecuteTime": {
     "end_time": "2018-04-20T06:25:31.975702Z",
     "start_time": "2018-04-20T06:25:31.438516Z"
    }
   },
   "outputs": [
    {
     "data": {
      "image/png": "[encoded data removed]",
      "text/plain": [
       "<matplotlib.figure.Figure at 0x1a0a2a29b0>"
      ]
     },
     "metadata": {
      "image/png": {
       "height": 385,
       "width": 943
      }
     },
     "output_type": "display_data"
    }
   ],
   "source": [
    "plt.figure(figsize=(16,6))\n",
    "plt.fill_between(t_range, 0, l1_list, alpha=0.2)\n",
    "plt.plot(t_range, l1_list)\n",
    "ax = plt.gca()\n",
    "ax.set(xlabel='iteration $t$',\n",
    "       ylabel = '$\\\\left\\\\|w_t-w_{\\\\infty}\\\\right\\\\|_1$',\n",
    "       title = 'Convergence of $w_t$ towards $w_{\\infty}$')\n",
    "ax.grid(True)"
   ]
  },
  {
   "cell_type": "markdown",
   "metadata": {
    "collapsed": true
   },
   "source": [
    "Finally, we use $w_{\\infty}$ to rank the teams once more, though the results are not much different from $w_{10000}$."
   ]
  },
  {
   "cell_type": "code",
   "execution_count": 15,
   "metadata": {
    "ExecuteTime": {
     "end_time": "2018-04-20T06:28:38.907971Z",
     "start_time": "2018-04-20T06:28:38.894499Z"
    }
   },
   "outputs": [
    {
     "name": "stdout",
     "output_type": "stream",
     "text": [
      "===========  t=inf  ============\n",
      "                team     proba\n",
      "5            Alabama  0.051796\n",
      "241          Georgia  0.042739\n",
      "490        OhioState  0.034011\n",
      "134          Clemson  0.032928\n",
      "493         Oklahoma  0.032076\n",
      "754        Wisconsin  0.031505\n",
      "111   CentralFlorida  0.029194\n",
      "37            Auburn  0.026859\n",
      "507        PennState  0.024350\n",
      "483        NotreDame  0.018290\n",
      "624              TCU  0.017442\n",
      "388          MiamiFL  0.014569\n",
      "391       MichiganSt  0.014430\n",
      "495       OklahomaSt  0.013818\n",
      "294             Iowa  0.013085\n",
      "477     Northwestern  0.012672\n",
      "295           IowaSt  0.012535\n",
      "323              LSU  0.011719\n",
      "582      SouthernCal  0.011591\n",
      "707       Washington  0.011340\n",
      "466    NorthDakotaSt  0.011085\n",
      "612         Stanford  0.010690\n",
      "412    MississippiSt  0.010455\n",
      "693     VirginiaTech  0.010194\n",
      "462  NorthCarolinaSt  0.009723\n",
      "\n",
      "\n"
     ]
    }
   ],
   "source": [
    "df = pd.DataFrame(dict(team=teams, proba=w_inf.squeeze()))\n",
    "print('{:=^32}'.format('  t={}  '.format('inf')))\n",
    "print(df[['team', 'proba']] \\\n",
    "      .sort_values(by = 'proba', ascending=False) \\\n",
    "      .head(25))\n",
    "print()\n",
    "print()"
   ]
  }
 ],
 "metadata": {
  "kernelspec": {
   "display_name": "Python-3.6",
   "language": "python",
   "name": "python-3.6"
  },
  "language_info": {
   "codemirror_mode": {
    "name": "ipython",
    "version": 3
   },
   "file_extension": ".py",
   "mimetype": "text/x-python",
   "name": "python",
   "nbconvert_exporter": "python",
   "pygments_lexer": "ipython3",
   "version": "3.6.3"
  },
  "varInspector": {
   "cols": {
    "lenName": 16,
    "lenType": 16,
    "lenVar": 40
   },
   "kernels_config": {
    "python": {
     "delete_cmd_postfix": "",
     "delete_cmd_prefix": "del ",
     "library": "var_list.py",
     "varRefreshCmd": "print(var_dic_list())"
    },
    "r": {
     "delete_cmd_postfix": ") ",
     "delete_cmd_prefix": "rm(",
     "library": "var_list.r",
     "varRefreshCmd": "cat(var_dic_list()) "
    }
   },
   "types_to_exclude": [
    "module",
    "function",
    "builtin_function_or_method",
    "instance",
    "_Feature"
   ],
   "window_display": false
  }
 },
 "nbformat": 4,
 "nbformat_minor": 2
}
