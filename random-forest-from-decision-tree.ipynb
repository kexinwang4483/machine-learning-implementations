{
 "cells": [
  {
   "cell_type": "code",
   "execution_count": 197,
   "metadata": {
    "ExecuteTime": {
     "end_time": "2019-11-01T00:33:05.831153Z",
     "start_time": "2019-11-01T00:33:05.827008Z"
    }
   },
   "outputs": [],
   "source": [
    "import pandas as pd\n",
    "import numpy as np\n",
    "import matplotlib.pyplot as plt\n",
    "\n",
    "from scipy.stats import mode\n",
    "from sklearn.tree import DecisionTreeClassifier\n",
    "from sklearn.ensemble import RandomForestClassifier as RandomForestClassifierSK\n",
    "from sklearn.datasets import load_wine\n",
    "from sklearn.model_selection import train_test_split\n",
    "from sklearn.base import ClassifierMixin, BaseEstimator"
   ]
  },
  {
   "cell_type": "markdown",
   "metadata": {},
   "source": [
    "# Implement Random Forest Classifier"
   ]
  },
  {
   "cell_type": "code",
   "execution_count": 216,
   "metadata": {
    "ExecuteTime": {
     "end_time": "2019-11-01T00:45:36.938631Z",
     "start_time": "2019-11-01T00:45:36.923582Z"
    }
   },
   "outputs": [],
   "source": [
    "class RandomForestClassifier(BaseEstimator, ClassifierMixin):\n",
    "    \n",
    "    def __init__(\n",
    "        self, n_estimators=100, criterion='gini', max_depth=None,\n",
    "        min_samples_split=2, min_samples_leaf=1, min_weight_fraction_leaf=0.0,\n",
    "        max_features='auto', max_leaf_nodes=None, min_impurity_decrease=0.0,\n",
    "        min_impurity_split=None):\n",
    "        \n",
    "        self.n_estimators = n_estimators\n",
    "        self.tree_params = {\n",
    "            'criterion': criterion,\n",
    "            'max_depth': max_depth,\n",
    "            'min_samples_split': min_samples_split,\n",
    "            'min_samples_leaf': min_samples_leaf,\n",
    "            'min_weight_fraction_leaf': min_weight_fraction_leaf,\n",
    "            'max_leaf_nodes': max_leaf_nodes,\n",
    "            'min_impurity_decrease': min_impurity_decrease,\n",
    "            'min_impurity_split': min_impurity_split,\n",
    "            'max_features': max_features,\n",
    "        }\n",
    "    \n",
    "    def _get_bootstrap_indices(self):\n",
    "        indices = np.random.choice(\n",
    "            self.num_samples, size=self.num_samples, replace=True)\n",
    "        return list(indices)\n",
    "    \n",
    "    @staticmethod\n",
    "    def _validate_data(X):\n",
    "        \n",
    "        # Validate X is a numpy array\n",
    "        if isinstance(X, pd.DataFrame):\n",
    "            return X.values\n",
    "        elif isinstance(X, np.ndarray):\n",
    "            return X\n",
    "        else:\n",
    "            raise ValueError('X must be an np.ndarray or pd.DataFrame')\n",
    "    \n",
    "    def fit(self, X, y):\n",
    "        \n",
    "        X = self._validate_data(X)\n",
    "        self.num_samples, self.num_features = X.shape\n",
    "            \n",
    "        # Fit each decision tree on bootstrapped dataset\n",
    "        self.trees = [\n",
    "            DecisionTreeClassifier(**self.tree_params)\n",
    "            for i in range(self.n_estimators)]\n",
    "        for tree in self.trees:\n",
    "            indices = self._get_bootstrap_indices()\n",
    "            tree.fit(X[indices], y[indices])\n",
    "        \n",
    "    def predict(self, X):\n",
    "        \n",
    "        X = self._validate_data(X)\n",
    "        \n",
    "        # shape = (n_samples, n_estimators)\n",
    "        predictions = np.array([tree.predict(X) for tree in self.trees]).T\n",
    "        \n",
    "        # select out most frequent prediction for each sample\n",
    "        predictions = mode(predictions, axis=1).mode.flatten()\n",
    "        return predictions"
   ]
  },
  {
   "cell_type": "markdown",
   "metadata": {},
   "source": [
    "# Import data and split"
   ]
  },
  {
   "cell_type": "code",
   "execution_count": 227,
   "metadata": {
    "ExecuteTime": {
     "end_time": "2019-11-01T00:46:24.556515Z",
     "start_time": "2019-11-01T00:46:24.545308Z"
    }
   },
   "outputs": [],
   "source": [
    "wine = load_wine()\n",
    "\n",
    "X = pd.DataFrame(wine.data, columns=wine.feature_names)\n",
    "y = wine.target\n",
    "\n",
    "X_train, X_val, y_train, y_val = train_test_split(\n",
    "    X, y, stratify=y, test_size=0.15)"
   ]
  },
  {
   "cell_type": "markdown",
   "metadata": {},
   "source": [
    "# Test new implementation of Random Forest"
   ]
  },
  {
   "cell_type": "code",
   "execution_count": 228,
   "metadata": {
    "ExecuteTime": {
     "end_time": "2019-11-01T00:46:26.264851Z",
     "start_time": "2019-11-01T00:46:25.758190Z"
    }
   },
   "outputs": [
    {
     "name": "stdout",
     "output_type": "stream",
     "text": [
      "Train accuracy: 0.9867549668874173\n",
      "Val accuracy: 0.9629629629629629\n"
     ]
    }
   ],
   "source": [
    "rfc = RandomForestClassifier(n_estimators=1000, max_features='auto', max_depth=2)\n",
    "rfc.fit(X_train, y_train)\n",
    "print('Train accuracy:', rfc.score(X_train, y_train))\n",
    "print('Val accuracy:', rfc.score(X_val, y_val))"
   ]
  },
  {
   "cell_type": "markdown",
   "metadata": {},
   "source": [
    "# Test sklearn implementation of Random Forest"
   ]
  },
  {
   "cell_type": "code",
   "execution_count": 230,
   "metadata": {
    "ExecuteTime": {
     "end_time": "2019-11-01T00:46:31.147618Z",
     "start_time": "2019-11-01T00:46:30.389055Z"
    }
   },
   "outputs": [
    {
     "name": "stdout",
     "output_type": "stream",
     "text": [
      "Train accuracy: 0.9867549668874173\n",
      "Val accuracy: 0.9629629629629629\n"
     ]
    }
   ],
   "source": [
    "rfc_sk = RandomForestClassifierSK(n_estimators=1000, max_features='auto', max_depth=2)\n",
    "rfc_sk.fit(X_train, y_train)\n",
    "print('Train accuracy:', rfc_sk.score(X_train, y_train))\n",
    "print('Val accuracy:', rfc_sk.score(X_val, y_val))"
   ]
  }
 ],
 "metadata": {
  "kernelspec": {
   "display_name": "python-37",
   "language": "python",
   "name": "python-37"
  },
  "language_info": {
   "codemirror_mode": {
    "name": "ipython",
    "version": 3
   },
   "file_extension": ".py",
   "mimetype": "text/x-python",
   "name": "python",
   "nbconvert_exporter": "python",
   "pygments_lexer": "ipython3",
   "version": "3.7.4"
  },
  "varInspector": {
   "cols": {
    "lenName": 16,
    "lenType": 16,
    "lenVar": 40
   },
   "kernels_config": {
    "python": {
     "delete_cmd_postfix": "",
     "delete_cmd_prefix": "del ",
     "library": "var_list.py",
     "varRefreshCmd": "print(var_dic_list())"
    },
    "r": {
     "delete_cmd_postfix": ") ",
     "delete_cmd_prefix": "rm(",
     "library": "var_list.r",
     "varRefreshCmd": "cat(var_dic_list()) "
    }
   },
   "types_to_exclude": [
    "module",
    "function",
    "builtin_function_or_method",
    "instance",
    "_Feature"
   ],
   "window_display": false
  }
 },
 "nbformat": 4,
 "nbformat_minor": 2
}
