{
 "cells": [
  {
   "cell_type": "markdown",
   "metadata": {},
   "source": [
    "# Implementing Non-negative Matrix Factorization for Topic Modeling\n",
    "In this notebook, we implement an NMF algorithm to learn topics from New York Times articles."
   ]
  },
  {
   "cell_type": "code",
   "execution_count": 1,
   "metadata": {
    "ExecuteTime": {
     "end_time": "2018-04-20T06:39:50.635435Z",
     "start_time": "2018-04-20T06:39:49.259155Z"
    },
    "collapsed": true
   },
   "outputs": [],
   "source": [
    "import numpy as np\n",
    "import pandas as pd\n",
    "import matplotlib.pyplot as plt\n",
    "import seaborn as sns\n",
    "\n",
    "from matplotlib import rcParams\n",
    "\n",
    "rcParams['font.family'] = 'serif'\n",
    "rcParams['font.serif'] = 'times new roman'\n",
    "\n",
    "%config InlineBackend.figure_format = 'retina'\n",
    "%matplotlib inline"
   ]
  },
  {
   "cell_type": "markdown",
   "metadata": {},
   "source": [
    "# New York Times Articles\n",
    "The data consists of $8447$ documents from *The New York Times* resulting in a corpus with a $3012$ word vocabulary. Each row in the text file corresponds to a single document that gives the index of words appearing in that document and the number of times they appear in the format\n",
    "```\n",
    "idx:count\n",
    "```\n",
    "with commas separating each unique word in the document. Any index that doesn't appear in a row has a count of zero for that word."
   ]
  },
  {
   "cell_type": "code",
   "execution_count": 4,
   "metadata": {
    "ExecuteTime": {
     "end_time": "2018-04-20T06:40:17.403876Z",
     "start_time": "2018-04-20T06:40:17.387880Z"
    }
   },
   "outputs": [
    {
     "name": "stdout",
     "output_type": "stream",
     "text": [
      "1946:2,1168:2,1194:2,1275:1,777:1,522:1,107:1,839:2,424:2,2330:2,1878:2,344:1,1008:1,94:3,735:1,212:1,2407:1,2623:1,781:2,42:1,160:1,1141:1,117:1,16:1,108:1,153:2,1137:2,416:1,23:2,46:1,734:2,284:1,207:2,301:1,357:1,780:2,2564:2,206:1,106:2,892:1,272:1,1557:1,2003:1,1079:2,370:1,1894:2,266:1,143:1,1532:1,2551:1,223:2,30:1,1509:1,1921:2,361:2,311:1,1549:2,203:1,2821:1,546:2,1612:1,200:1,247:2,1731:2,565:1,2253:1,234:1,72:1,648:1,1072:1,518:1,39:1,703:2,625:1,140:1,2301:1,32:1,462:1,743:1,2017:2,925:1,118:1,1000:2,836:1,161:1,942:2,885:1,267:1,2683:1,626:1,317:1,69:1,860:2,633:1,2658:1,75:2,1563:1,690:1,802:1,1650:1,1836:1,111:1,2151:1,128:2,2864:1,22:2,1301:1,250:2,1922:2,936:1,918:1,775:1,280:1,18:2,182:1,667:1,2383:1,878:1,1498:1,109:2,1577:1,1758:1,60:1,2269:1,215:1,2038:2,485:1,335:1,2543:2,422:1,12:1,585:2,1754:1,1293:1,604:1,52:1,248:1,2:2,603:2,1345:2,271:3,668:1,1022:2,260:1,1251:2,498:1,2213:1,351:3,2584:1,1349:1,334:2,218:1,34:1,256:1,2576:2,58:1,1637:1,926:2,313:1,2041:2,1505:1,1698:2,587:1\n",
      "\n"
     ]
    }
   ],
   "source": [
    "with open('data/nyt-data.txt', 'rt') as f:\n",
    "    nyt_data = f.readlines()\n",
    "\n",
    "print(nyt_data[0])"
   ]
  },
  {
   "cell_type": "markdown",
   "metadata": {},
   "source": [
    "# Generating the Bag of Words Matrix\n",
    "Each document is converted into a $3012$-dimensional column vector, which when concatenated with other document vectors, results in a matrix $X \\in \\mathbb{R}^{3012 \\times 8447}$ where $X_{ij}$ is the number of times word $i$ appears in document $j$."
   ]
  },
  {
   "cell_type": "code",
   "execution_count": 19,
   "metadata": {
    "ExecuteTime": {
     "end_time": "2018-04-19T19:12:28.350501Z",
     "start_time": "2018-04-19T19:12:27.132100Z"
    },
    "collapsed": true
   },
   "outputs": [],
   "source": [
    "n_documents = len(nyt_data)\n",
    "n_words = 3012\n",
    "X = np.zeros([n_words, n_documents])\n",
    "for j, document in enumerate(nyt_data):\n",
    "    document = [[int(element) for element in pair.split(':')] for pair in document.split(',')]\n",
    "    for pair in document:\n",
    "        i = pair[0] - 1 # force 0-indexing\n",
    "        count = pair[1]\n",
    "        X[i,j] = count"
   ]
  },
  {
   "cell_type": "markdown",
   "metadata": {},
   "source": [
    "# Non-negative Matrix Factorization with Divergence Penalty\n",
    "In factorizing the matrix $X=WH$ where $W\\in\\mathbb{R}^{3012\\times k}$ and $H\\in\\mathbb{R}^{k \\times 8447}$, we can think of each rolumn of $R$ as a distribution on words that defines a **topic**. For example, if a particular distribution weights words such as \"Republican\", \"Democrat\", \"President\", and \"election\" highly, we might consider such a distribution a \"politics\" topic. We can similarly think of each column of $H$ as a document's distribution on topics, so documents with a higher weighting for \"politics\" would contain more words such as \"Republican\", \"Democrat\", etc.\n",
    "\n",
    "We want to minimize the divergence loss:\n",
    "$$D(X||WH) = \\sum_{i=1}^{3012}\\sum_{j=1}^{8447}[X_{ij}\\ln\\frac{1}{(WH)_{ij}}+(WH)_{ij}]$$\n",
    "subject to all values in $W$ and $H$ being non-negative.\n",
    "\n",
    "To do so, we first randomly initialize $W$ and $H$ to non-negative values, in this case from the Uniform(1,2) distribution, then iterate the following until the change in loss is sufficiently small:\n",
    "- $H_{kj} \\leftarrow H_{kj} \\frac{\\sum_{i}W_{ik}X_{ij}/(WH)_{ij}}{\\sum_{i}W_{ij}}$\n",
    "\n",
    "\n",
    "- $W_{ik} \\leftarrow W_{ik} \\frac{\\sum_j H_{kj}X_{ij}/(WH)_{ij}}{\\sum_j H_{kj}}$"
   ]
  },
  {
   "cell_type": "code",
   "execution_count": 91,
   "metadata": {
    "ExecuteTime": {
     "end_time": "2018-04-19T20:01:33.721436Z",
     "start_time": "2018-04-19T20:01:33.666459Z"
    },
    "collapsed": true
   },
   "outputs": [],
   "source": [
    "class NMF():\n",
    "    \n",
    "    def __init__(self, n_components=25, n_iter=100):\n",
    "        self.n_components = n_components\n",
    "        self.n_iter = n_iter\n",
    "        self.losses = list()\n",
    "        \n",
    "    def calculate_loss(self, X):\n",
    "        X_prime = self.W.dot(self.H) + 1e-15\n",
    "        loss = np.sum(-X * np.log(X_prime) - X_prime)\n",
    "        return loss\n",
    "        \n",
    "    def fit(self, X, y=None):\n",
    "        n_words = X.shape[0]\n",
    "        n_documents = X.shape[1]\n",
    "        n_components = self.n_components\n",
    "        self.W = np.random.uniform(1, 2, [n_words, n_components])\n",
    "        self.H = np.random.uniform(1, 2, [n_components, n_documents])\n",
    "        \n",
    "        for i in range(self.n_iter):\n",
    "            Z = (X / (self.W.dot(self.H) + 1e-15))\n",
    "            W_transpose_normed = self.W.T / \\\n",
    "                (self.W.T.sum(axis = 1, keepdims=True) + 0)\n",
    "            self.H *= W_transpose_normed.dot(Z)\n",
    "            \n",
    "            Z = (X / (self.W.dot(self.H) + 1e-15))\n",
    "            H_transpose_normed = self.H.T / \\\n",
    "                (self.H.T.sum(axis = 0, keepdims=True) + 0)\n",
    "            self.W *= Z.dot(H_transpose_normed)\n",
    "            \n",
    "            self.losses.append(self.calculate_loss(X))\n",
    "            \n",
    "        return self\n",
    "    \n",
    "    def transform(self):\n",
    "        return self.W"
   ]
  },
  {
   "cell_type": "markdown",
   "metadata": {},
   "source": [
    "We run the NMF algorithm on the *New York Times* data setting the number of topics to $25$ and number of iterations to $100$."
   ]
  },
  {
   "cell_type": "code",
   "execution_count": 92,
   "metadata": {
    "ExecuteTime": {
     "end_time": "2018-04-19T20:03:50.872456Z",
     "start_time": "2018-04-19T20:01:34.574582Z"
    }
   },
   "outputs": [
    {
     "data": {
      "text/plain": [
       "<__main__.NMF at 0x1142bcf28>"
      ]
     },
     "execution_count": 92,
     "metadata": {},
     "output_type": "execute_result"
    }
   ],
   "source": [
    "nmf = NMF(n_iter=100)\n",
    "nmf.fit(X)"
   ]
  },
  {
   "cell_type": "markdown",
   "metadata": {},
   "source": [
    "Below, we plot the divergence loss as a function of iteration."
   ]
  },
  {
   "cell_type": "code",
   "execution_count": 103,
   "metadata": {
    "ExecuteTime": {
     "end_time": "2018-04-19T20:07:57.936405Z",
     "start_time": "2018-04-19T20:07:57.673533Z"
    }
   },
   "outputs": [
    {
     "data": {
      "image/png": "[encoded data removed]",
      "text/plain": [
       "<matplotlib.figure.Figure at 0x1a2d00ce10>"
      ]
     },
     "metadata": {
      "image/png": {
       "height": 384,
       "width": 963
      }
     },
     "output_type": "display_data"
    }
   ],
   "source": [
    "plt.figure(figsize = (16,6))\n",
    "plt.plot(range(1, len(nmf.losses)+1), nmf.losses)\n",
    "plt.fill_between(range(1, len(nmf.losses)+1), 1000000, nmf.losses, alpha=0.25)\n",
    "ax = plt.gca()\n",
    "ax.set(title='learning curve',\n",
    "       xlabel='iterations',\n",
    "       ylabel='divergence loss')\n",
    "ax.grid(True)"
   ]
  },
  {
   "cell_type": "markdown",
   "metadata": {},
   "source": [
    "# Displaying Topics\n",
    "We then normalize the columns of $W$ so they sum to one (i.e. represent valid probability distributions)."
   ]
  },
  {
   "cell_type": "code",
   "execution_count": 113,
   "metadata": {
    "ExecuteTime": {
     "end_time": "2018-04-19T20:15:01.145982Z",
     "start_time": "2018-04-19T20:15:01.138892Z"
    },
    "collapsed": true
   },
   "outputs": [],
   "source": [
    "with open('data/nyt-vocab.dat', 'rb') as f:\n",
    "    nyt_vocab = f.readlines()\n",
    "    \n",
    "nyt_vocab = np.array([word.decode().strip() for word in nyt_vocab])\n",
    "\n",
    "topics = nmf.W / nmf.W.sum(axis = 0, keepdims=True)\n",
    "top_words = np.argsort(-topics, axis = 0)[:25,:]\n",
    "top_weights = -np.sort(-topics, axis = 0)[:25,:]"
   ]
  },
  {
   "cell_type": "markdown",
   "metadata": {},
   "source": [
    " For each column of $W$, we list the $10$ words having the largest weight and their corresponding weights."
   ]
  },
  {
   "cell_type": "code",
   "execution_count": 171,
   "metadata": {
    "ExecuteTime": {
     "end_time": "2018-04-19T21:09:21.193351Z",
     "start_time": "2018-04-19T21:09:21.077174Z"
    }
   },
   "outputs": [
    {
     "name": "stdout",
     "output_type": "stream",
     "text": [
      "====== topic 1 ======= ====== topic 2 ======= ====== topic 3 ======= ====== topic 4 ======= ====== topic 5 ======= \n",
      " food          0.0154 | computer      0.0183 | season        0.0206 | team          0.0384 | win           0.0372 |\n",
      " restaurant    0.0095 | company       0.0165 | game          0.02   | game          0.0365 | second        0.0323 |\n",
      " serve         0.0093 | information   0.0124 | baseball      0.0195 | player        0.0267 | third         0.0226 |\n",
      " taste         0.0078 | product       0.0116 | contract      0.0172 | play          0.0262 | victory       0.0192 |\n",
      " dry           0.0077 | technology    0.0115 | team          0.0171 | season        0.0217 | score         0.0176 |\n",
      " eat           0.0077 | customer      0.0114 | manager       0.015  | coach         0.019  | final         0.0149 |\n",
      " fresh         0.0075 | sell          0.0102 | hit           0.0148 | pass          0.0103 | finish        0.0139 |\n",
      " add           0.0071 | service       0.01   | pitch         0.014  | football      0.01   | fourth        0.0135 |\n",
      " water         0.007  | system        0.0095 | player        0.0134 | sport         0.0096 | lose          0.0134 |\n",
      " pound         0.007  | available     0.0091 | club          0.0133 | basketball    0.0087 | point         0.013  |\n",
      "\n",
      "====== topic 6 ======= ====== topic 7 ======= ====== topic 8 ======= ====== topic 9 ======= ====== topic 10 ====== \n",
      " building      0.0233 | states        0.0268 | woman         0.0183 | form          0.0081 | thing         0.0217 |\n",
      " city          0.021  | american      0.0254 | man           0.0133 | different     0.0076 | lot           0.015  |\n",
      " house         0.0134 | country       0.0193 | young         0.0111 | create        0.0065 | ask           0.0134 |\n",
      " build         0.0119 | government    0.0191 | wear          0.0106 | view          0.0064 | really        0.0134 |\n",
      " street        0.0118 | war           0.0183 | child         0.0104 | change        0.0058 | feel          0.0127 |\n",
      " area          0.0109 | military      0.0179 | house         0.0084 | far           0.0056 | little        0.0118 |\n",
      " open          0.0108 | international 0.014  | dress         0.0073 | large         0.0054 | put           0.0111 |\n",
      " space         0.0101 | force         0.0116 | life          0.0073 | power         0.0054 | keep          0.0111 |\n",
      " site          0.0097 | official      0.0115 | white         0.0072 | great         0.0053 | tell          0.0108 |\n",
      " resident      0.0092 | foreign       0.011  | girl          0.0069 | image         0.0052 | big           0.0099 |\n",
      "\n",
      "====== topic 11 ====== ====== topic 12 ====== ====== topic 13 ====== ====== topic 14 ====== ====== topic 15 ====== \n",
      " music         0.0186 | write         0.0195 | school        0.0436 | hour          0.0175 | company       0.0351 |\n",
      " play          0.0155 | book          0.0191 | student       0.0293 | night         0.0153 | executive     0.0233 |\n",
      " art           0.0116 | editor        0.0176 | child         0.0174 | morning       0.0144 | business      0.0166 |\n",
      " performance   0.0109 | life          0.0148 | class         0.0157 | crowd         0.011  | president     0.0152 |\n",
      " audience      0.0103 | writer        0.0103 | education     0.0132 | afternoon     0.0096 | chief         0.0124 |\n",
      " artist        0.0091 | article       0.0098 | program       0.0131 | ride          0.0091 | share         0.0114 |\n",
      " film          0.0088 | story         0.009  | college       0.013  | walk          0.0083 | sell          0.0105 |\n",
      " production    0.0085 | man           0.0087 | parent        0.0118 | trip          0.0079 | chairman      0.0091 |\n",
      " theater       0.008  | read          0.008  | teacher       0.0111 | minute        0.0076 | sale          0.0085 |\n",
      " stage         0.008  | author        0.0078 | teach         0.0084 | head          0.0069 | yesterday     0.0085 |\n",
      "\n",
      "====== topic 16 ====== ====== topic 17 ====== ====== topic 18 ====== ====== topic 19 ====== ====== topic 20 ====== \n",
      " percent       0.0285 | pay           0.0157 | meeting       0.0125 | father        0.0558 | car           0.0147 |\n",
      " price         0.018  | state         0.0143 | issue         0.0105 | son           0.0465 | plant         0.0096 |\n",
      " market        0.0171 | money         0.0143 | official      0.0091 | mrs           0.0438 | flight        0.0087 |\n",
      " rate          0.0158 | budget        0.0123 | member        0.0087 | mother        0.0361 | air           0.0084 |\n",
      " rise          0.0145 | program       0.011  | decision      0.0073 | daughter      0.0338 | official      0.0083 |\n",
      " economy       0.0122 | tax           0.0106 | political     0.0065 | graduate      0.0278 | traffic       0.0081 |\n",
      " increase      0.0102 | propose       0.0106 | leader        0.0064 | retire        0.0278 | water         0.0077 |\n",
      " fall          0.0097 | plan          0.0105 | meet          0.0064 | marry         0.0246 | driver        0.0075 |\n",
      " low           0.0097 | bill          0.0105 | question      0.0063 | family        0.0225 | vehicle       0.0074 |\n",
      " average       0.0079 | cost          0.0102 | statement     0.0062 | receive       0.0208 | truck         0.0066 |\n",
      "\n",
      "====== topic 21 ====== ====== topic 22 ====== ====== topic 23 ====== ====== topic 24 ====== ====== topic 25 ====== \n",
      " police        0.0308 | country       0.014  | drug          0.0145 | vote          0.0222 | case          0.0207 |\n",
      " kill          0.0218 | live          0.011  | health        0.0143 | campaign      0.0221 | lawyer        0.0178 |\n",
      " officer       0.0172 | state         0.011  | study         0.0125 | political     0.0182 | court         0.0173 |\n",
      " man           0.0168 | land          0.0101 | doctor        0.0118 | election      0.0162 | law           0.0152 |\n",
      " arrest        0.0119 | local         0.01   | medical       0.0109 | republican    0.0157 | charge        0.0139 |\n",
      " attack        0.0106 | population    0.01   | report        0.0103 | party         0.0155 | judge         0.0125 |\n",
      " death         0.0104 | thousand      0.0097 | patient       0.0101 | candidate     0.0151 | legal         0.0103 |\n",
      " fire          0.01   | grow          0.0096 | treatment     0.0092 | democratic    0.0124 | trial         0.0087 |\n",
      " crime         0.0097 | community     0.0091 | research      0.0091 | leader        0.011  | investigation 0.0085 |\n",
      " violence      0.0094 | city          0.0091 | cause         0.0085 | state         0.0106 | file          0.0081 |\n",
      "\n"
     ]
    }
   ],
   "source": [
    "for i in range(1,6):\n",
    "    for j in range(1,6):\n",
    "        col = j + (i-1) * 5\n",
    "        print('{:=^22}'.format(' topic {} '.format(col)), end = ' ')\n",
    "    \n",
    "    print()\n",
    "    for k in range(0, 10):\n",
    "        for j in range(1,6):\n",
    "            col = j + (i-1) * 5 - 1\n",
    "            word = nyt_vocab[top_words[k, col]]\n",
    "            weight = top_weights[k, col]\n",
    "            print('{:<22}'.format(' {:<13} {:>4}'.format(word, np.round(weight, 4))),\n",
    "                  end='|')\n",
    "        print()\n",
    "    \n",
    "    print()"
   ]
  }
 ],
 "metadata": {
  "kernelspec": {
   "display_name": "Python-3.6",
   "language": "python",
   "name": "python-3.6"
  },
  "language_info": {
   "codemirror_mode": {
    "name": "ipython",
    "version": 3
   },
   "file_extension": ".py",
   "mimetype": "text/x-python",
   "name": "python",
   "nbconvert_exporter": "python",
   "pygments_lexer": "ipython3",
   "version": "3.6.3"
  },
  "varInspector": {
   "cols": {
    "lenName": 16,
    "lenType": 16,
    "lenVar": 40
   },
   "kernels_config": {
    "python": {
     "delete_cmd_postfix": "",
     "delete_cmd_prefix": "del ",
     "library": "var_list.py",
     "varRefreshCmd": "print(var_dic_list())"
    },
    "r": {
     "delete_cmd_postfix": ") ",
     "delete_cmd_prefix": "rm(",
     "library": "var_list.r",
     "varRefreshCmd": "cat(var_dic_list()) "
    }
   },
   "types_to_exclude": [
    "module",
    "function",
    "builtin_function_or_method",
    "instance",
    "_Feature"
   ],
   "window_display": false
  }
 },
 "nbformat": 4,
 "nbformat_minor": 2
}
