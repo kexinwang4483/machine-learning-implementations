{
 "cells": [
  {
   "cell_type": "markdown",
   "metadata": {},
   "source": [
    "# Implementing Probablistic Matrix Factorization\n",
    "In this notebook, we design a probablistic implementation of matrix factorization to address the problem of missing values. This is a common problem in recommender systems where the data is often in the form of a ratings matrix where the entry in the $i$th row and $j$th column represents user $i$'s rating for item $j$. Because most users do not rate all items and most items are not rated by all users, matrix factorization offers a means of imputing these missing values."
   ]
  },
  {
   "cell_type": "code",
   "execution_count": 4,
   "metadata": {
    "ExecuteTime": {
     "end_time": "2018-04-07T06:30:22.692481Z",
     "start_time": "2018-04-07T06:30:21.454027Z"
    },
    "collapsed": true
   },
   "outputs": [],
   "source": [
    "import numpy as np\n",
    "import pandas as pd\n",
    "import matplotlib.pyplot as plt\n",
    "import seaborn as sns\n",
    "\n",
    "from IPython.display import clear_output\n",
    "from matplotlib import rcParams\n",
    "\n",
    "rcParams['font.family'] = 'serif'\n",
    "rcParams['font.serif'] = 'times new roman'\n",
    "\n",
    "%config InlineBackend.figure_format = 'retina'\n",
    "%matplotlib inline "
   ]
  },
  {
   "cell_type": "markdown",
   "metadata": {},
   "source": [
    "# MovieLens Ratings Data\n",
    "The MovieLens dataset is one of the most popular benchmark datasets for testing recommender systems. It consists of nothing more than three attributes:\n",
    "- user: integers representing the indices of the users\n",
    "- item: integers representing the indices of the films\n",
    "- rating: real numbers representing the rating given. this attribute has already been mean-centered.\n",
    "\n",
    "The training set consists of $95,000$ ratings comprising $1,676$ unique movies and $943$ unique users. The test set consists of $5,000$ ratings. "
   ]
  },
  {
   "cell_type": "code",
   "execution_count": 7,
   "metadata": {
    "ExecuteTime": {
     "end_time": "2018-04-07T06:36:08.063811Z",
     "start_time": "2018-04-07T06:36:07.903293Z"
    }
   },
   "outputs": [
    {
     "name": "stdout",
     "output_type": "stream",
     "text": [
      "1676 unique movies in training set\n",
      "943 unique users in training set\n"
     ]
    },
    {
     "data": {
      "text/html": [
       "<div>\n",
       "<style>\n",
       "    .dataframe thead tr:only-child th {\n",
       "        text-align: right;\n",
       "    }\n",
       "\n",
       "    .dataframe thead th {\n",
       "        text-align: left;\n",
       "    }\n",
       "\n",
       "    .dataframe tbody tr th {\n",
       "        vertical-align: top;\n",
       "    }\n",
       "</style>\n",
       "<table border=\"1\" class=\"dataframe\">\n",
       "  <thead>\n",
       "    <tr style=\"text-align: right;\">\n",
       "      <th></th>\n",
       "      <th>user</th>\n",
       "      <th>item</th>\n",
       "      <th>rating</th>\n",
       "    </tr>\n",
       "  </thead>\n",
       "  <tbody>\n",
       "    <tr>\n",
       "      <th>0</th>\n",
       "      <td>195</td>\n",
       "      <td>241</td>\n",
       "      <td>-0.53039</td>\n",
       "    </tr>\n",
       "    <tr>\n",
       "      <th>1</th>\n",
       "      <td>185</td>\n",
       "      <td>301</td>\n",
       "      <td>-0.53039</td>\n",
       "    </tr>\n",
       "    <tr>\n",
       "      <th>2</th>\n",
       "      <td>243</td>\n",
       "      <td>50</td>\n",
       "      <td>-1.53040</td>\n",
       "    </tr>\n",
       "    <tr>\n",
       "      <th>3</th>\n",
       "      <td>165</td>\n",
       "      <td>345</td>\n",
       "      <td>-2.53040</td>\n",
       "    </tr>\n",
       "    <tr>\n",
       "      <th>4</th>\n",
       "      <td>297</td>\n",
       "      <td>473</td>\n",
       "      <td>0.46961</td>\n",
       "    </tr>\n",
       "  </tbody>\n",
       "</table>\n",
       "</div>"
      ],
      "text/plain": [
       "   user  item   rating\n",
       "0   195   241 -0.53039\n",
       "1   185   301 -0.53039\n",
       "2   243    50 -1.53040\n",
       "3   165   345 -2.53040\n",
       "4   297   473  0.46961"
      ]
     },
     "execution_count": 7,
     "metadata": {},
     "output_type": "execute_result"
    }
   ],
   "source": [
    "# read text document of movie names. a movie's index corresponds to its\n",
    "# row number\n",
    "with open('data/movies/movies.txt', 'rt') as f:\n",
    "    movies = f.readlines()\n",
    "\n",
    "# remove newlines from each movie name\n",
    "movies = [movie.strip('\\n') for movie in movies]\n",
    "\n",
    "# create two-way mappings from movie to index\n",
    "movie2idx = dict(zip(movies, list(range(len(movies)))))\n",
    "idx2movie = dict(zip(list(range(len(movies))), movies))\n",
    "map = dict(movie2idx=movie2idx, idx2movie=idx2movie)\n",
    "\n",
    "# import ratings data and rename columns\n",
    "df_train = pd.read_csv('data/movies/ratings.csv', header=None)\n",
    "df_test = pd.read_csv('data/movies/ratings_test.csv', header=None)\n",
    "\n",
    "columns = ['user', 'item', 'rating']\n",
    "df_train.columns = columns\n",
    "df_test.columns = columns\n",
    "\n",
    "# convert indices from 1-based index to 0-based index\n",
    "df_train['item'] = df_train['item'].apply(lambda x: x-1)\n",
    "df_test['item'] = df_test['item'].apply(lambda x: x-1)\n",
    "df_train['user'] = df_train['user'].apply(lambda x: x-1)\n",
    "df_test['user'] = df_test['user'].apply(lambda x: x-1)\n",
    "\n",
    "print('{} unique movies in training set'.format(df_train['item'].nunique()))\n",
    "print('{} unique users in training set'.format(df_train['user'].nunique()))\n",
    "\n",
    "df_train.head()"
   ]
  },
  {
   "cell_type": "markdown",
   "metadata": {},
   "source": [
    "# Probabilistic Matrix Factorization \n",
    "Let $M \\in \\mathbb{R}^{m \\times n}$ be a ratings matrix where row $i$ represents all the ratings user $i$ has made, and column $j$ represents all the ratings given to item $j$. PMF seeks to factorize $M$ into $U \\in \\mathbb{R}^{k \\times m}$ and $V \\in \\mathbb{R}^{k \\times m}$ such that $M \\approx U^TV$. Column $i$ of $U$ is a $k$-dimensional latent representation of user $i$, while column $j$ of $V$ is a $k$-dimensional representation of item $j$ in the same latent space.  To perform **maximum a posteriori** estimation for the values of $U$ and $V$, a generative model is required that assumes: \n",
    "- latent user vectors are distribtued $u_i \\sim \\mathcal{N}(0, \\lambda^{-1}I)$ \n",
    "- latent item vectors are distributed $v_j \\sim \\mathcal{N}(0, \\lambda^{-1}I)$ \n",
    "- ratings are distributed $M_{ij} \\sim \\mathcal{N}(u_i^Tv_j, \\sigma^2)$ where $\\lambda$ is a regularization parameter and $\\sigma^2$ indicates expected noise.\n",
    "\n",
    "Let $\\Omega = \\{(i,j):M_{ij}$ contains a rating $\\}$ (in other words, $(i, j) \\in \\Omega$ if user $i$ rated item $j$, $\\Omega_{u_i}$ be the index set of items rated by user $i$, and $\\Omega_{v_j}$ be the index set of users who rated item $j$. Given the above assumptions, the joint likelihood of $p(M_O, U, V)$ (where $M_O$ indicates observed values of $M$) can be factorized as follows:\n",
    "\n",
    "$$p(M_O, U, V) = [\\prod_{(i,j)\\in\\Omega} p(M_{ij}|u_i, v_j)] \\times [\\prod_{i=1}^{m}p(u_i)] \\times [\\prod_{j=1}^{n}p(v_j)]$$\n",
    "\n",
    "The MAP solution for $U$ and $V$ is the maximum of the log joint likelihood:\n",
    "\n",
    "$$U_{MAP}, V_{MAP} = \\arg\\max_{U,V} \\sum_{(i,j)\\in\\Omega}\\ln p(M_{ij}|u_i, v_j) + \\sum_{i=1}^{m}\\ln p(u_i) + \\sum_{j=1}^{n}\\ln p(v_j)$$\n",
    "$$= -\\sum_{(i,j)\\in\\Omega}\\frac{1}{2\\sigma^2}\\left\\|M_{ij}-u_i^Tv_j\\right\\|^2-\\sum_{i=1}^{m}\\frac{\\lambda}{2}\\left|u_i\\right\\|^2 - \\sum_{j=1}^{n}\\frac{\\lambda}{2}\\left\\|v_j\\right\\|^2 + C$$\n",
    "where $C$ is some constant.\n",
    "\n",
    "To update each $u_i$ and $v_j$, we take set the derivative of the joint log likehood to $0$ and solve for $u_i$ and $v_j$, resulting in:\n",
    "\n",
    "$$u_i = (\\lambda\\sigma^2I+\\sum_{j\\in\\Omega_{u_i}}v_jv_j^T)^{-1}(\\sum_{j\\in\\Omega_{u_i}}M_{ij}v_j)$$\n",
    "\n",
    "$$v_j = (\\lambda\\sigma^2I+\\sum_{j\\in\\Omega_{v_j}}u_iu_i^T)^{-1}(\\sum_{j\\in\\Omega_{v_j}}M_{ij}u_i)$$\n",
    "\n",
    "Since all $u_i$'s and $v_j$'s cannot be solved simultaneously, an iterative coordinate ascent algorithm is used whereby $V$ is fixed while $U$ is optimized and then $U$ is fixed while $V$ is optimized."
   ]
  },
  {
   "cell_type": "code",
   "execution_count": 183,
   "metadata": {
    "ExecuteTime": {
     "end_time": "2018-04-07T02:53:07.014231Z",
     "start_time": "2018-04-07T02:53:06.636361Z"
    },
    "collapsed": true
   },
   "outputs": [],
   "source": [
    "class MatrixFactorization():\n",
    "    \n",
    "    def __init__(self, noise=0.25, n_components=10, lambd=1, n_iter=100):\n",
    "        self.noise = noise\n",
    "        self.n_components = n_components\n",
    "        self.lambd = lambd\n",
    "        self.n_iter = n_iter\n",
    "        \n",
    "        # part of the log joint likelihood depends only on\n",
    "        # hyperparameters\n",
    "        M = np.log(1 / np.sqrt(noise * 2 * np.pi))\n",
    "        U = np.log(1 / np.sqrt((2 * np.pi) ** n_components * \\\n",
    "                               np.linalg.det(1/lambd * np.eye(n_components))))\n",
    "        V = U\n",
    "        self.likelihood_constants = dict(M=M, U=U, V=V)\n",
    "        \n",
    "    def fit(self, X):\n",
    "        self.n_users = X['user'].max() + 1\n",
    "        self.n_items = X['item'].max() + 1\n",
    "        \n",
    "        # randomly initialize factor matrics U and V\n",
    "        # each column of U and V is a latent representation\n",
    "        # n_components x n_users\n",
    "        self.U = np.random.multivariate_normal(np.zeros(self.n_components),\n",
    "                                               np.eye(self.n_components),\n",
    "                                               self.n_users).T\n",
    "        \n",
    "        # n_components x n_items\n",
    "        self.V = np.random.multivariate_normal(np.zeros(self.n_components),\n",
    "                                               np.eye(self.n_components),\n",
    "                                               self.n_items).T\n",
    "        \n",
    "        self.likelihoods = list()\n",
    "        for index in range(1, self.n_iter + 1):\n",
    "            \n",
    "            # calculate log joint likelihood\n",
    "            likelihood = self.calculate_log_joint_likelihood(X)\n",
    "            self.likelihoods.append(likelihood)\n",
    "            print('iteration {}, likelihood = {}'.format(index, likelihood)) \n",
    "            \n",
    "            for i in range(self.n_users):\n",
    "                \n",
    "                # get indices for all items and ratings by user i\n",
    "                X_filtered = X.loc[X['user'] == i]\n",
    "                user_items = X_filtered['item'].values\n",
    "                user_ratings = X_filtered['rating'].values\n",
    "                \n",
    "                # get only columns of V corresponding to items user i has rated\n",
    "                V_filtered = self.V[:, user_items]\n",
    "                \n",
    "                # calculate latent vector\n",
    "                first = np.linalg.inv(\\\n",
    "                        self.lambd * self.noise * np.eye(self.n_components) + \\\n",
    "                        V_filtered.dot(V_filtered.T))\n",
    "                second = V_filtered.dot(user_ratings)\n",
    "                self.U[:,i] = first.dot(second)\n",
    "            \n",
    "            for j in range(self.n_items):\n",
    "                # get indices for all users and ratings for item j\n",
    "                X_filtered = X.loc[X['item'] == j]\n",
    "                item_users = X_filtered['user'].values\n",
    "                item_ratings = X_filtered['rating'].values\n",
    "                \n",
    "                # get only columns of U corresponding to users that\n",
    "                # have rated item j\n",
    "                U_filtered = self.U[:, item_users]\n",
    "                \n",
    "                # calculate latent vector\n",
    "                first = np.linalg.inv(\\\n",
    "                        self.lambd * self.noise * np.eye(self.n_components) + \\\n",
    "                        U_filtered.dot(U_filtered.T))\n",
    "                second = U_filtered.dot(item_ratings)\n",
    "                self.V[:,j] = first.dot(second)\n",
    "                \n",
    "            clear_output()\n",
    "            \n",
    "        return self\n",
    "        \n",
    "    def predict(self, X):\n",
    "        predictions = list()\n",
    "        for index, row in X.iterrows():\n",
    "            i = int(row['user'])\n",
    "            j = int(row['item'])\n",
    "            \n",
    "            # calculate prediction as dot product between latent vectors\n",
    "            predictions.append(self.U[:,i].dot(self.V[:,j]))\n",
    "            \n",
    "        return np.array(predictions)\n",
    "    \n",
    "    def calculate_log_joint_likelihood(self, X):\n",
    "        \n",
    "        # calculate sum of squared errors\n",
    "        preds = self.predict(X)\n",
    "        ratings = X['rating'].values\n",
    "        error = np.sum((ratings - preds) ** 2)\n",
    "        \n",
    "        # calcualte sum of squared norms for each factor matrix\n",
    "        U_penalty = np.sum(np.linalg.norm(self.U, axis=0) ** 2)\n",
    "        V_penalty = np.sum(np.linalg.norm(self.V, axis=0) ** 2)\n",
    "        \n",
    "        # calculate log joint likelihood in two parts\n",
    "        log_joint_likelihood = -(1/(2 * self.noise)) * error - \\\n",
    "                                (self.lambd / 2) * U_penalty - \\\n",
    "                                (self.lambd / 2) * V_penalty\n",
    "        \n",
    "        # the second part accounts for the constants in the likelihood equation\n",
    "        log_joint_likelihood += len(X) * self.likelihood_constants['M'] + \\\n",
    "                                self.n_users * self.likelihood_constants['U'] + \\\n",
    "                                self.n_items * self.likelihood_constants['V']\n",
    "                \n",
    "        return log_joint_likelihood\n",
    "    \n",
    "    def get_similar_items(self, item, n=10):\n",
    "        \n",
    "        # select latent item vector and calculate Euclidean distances to all\n",
    "        # other latent item vectors\n",
    "        item_vector = self.V[:, item].reshape(-1, 1)\n",
    "        distances = np.linalg.norm(self.V - item_vector, axis = 0)\n",
    "        \n",
    "        # the most similar item will be the item itself, so exclude it\n",
    "        similar_items = np.argsort(distances)[1:n+1]\n",
    "        similar_distances = distances[similar_items]\n",
    "        \n",
    "        # package most similar items with corresponding distances\n",
    "        data = dict(item=similar_items, distance=similar_distances)\n",
    "        return pd.DataFrame(data)[['item', 'distance']]\n",
    "\n",
    "def rmse(y, y_pred):\n",
    "    return np.sqrt(np.mean((y - y_pred)**2))"
   ]
  },
  {
   "cell_type": "markdown",
   "metadata": {},
   "source": [
    "For the MovieLens data, we use the matrix factorization model's default settings of $\\sigma^2 = 0.25$, $k = 10$, and $\\lambda = 1$ and fit it on the training set for $100$ iterations. For each user-movie pair in the test set, we predict the rating using the dot product of the relevant latent vectors in $U$ and $V$."
   ]
  },
  {
   "cell_type": "code",
   "execution_count": 185,
   "metadata": {
    "ExecuteTime": {
     "end_time": "2018-04-07T04:15:35.198892Z",
     "start_time": "2018-04-07T02:53:56.777912Z"
    },
    "collapsed": true
   },
   "outputs": [],
   "source": [
    "models = [MatrixFactorization().fit(df_train) for i in range(10)]"
   ]
  },
  {
   "cell_type": "markdown",
   "metadata": {},
   "source": [
    "The learning curves for iterations $2$ through $100$ of $10$ matrix factorization models are plotted below."
   ]
  },
  {
   "cell_type": "code",
   "execution_count": 186,
   "metadata": {
    "ExecuteTime": {
     "end_time": "2018-04-07T04:15:54.454994Z",
     "start_time": "2018-04-07T04:15:54.087286Z"
    }
   },
   "outputs": [
    {
     "data": {
      "text/plain": [
       "Text(0,0.5,'log joint likelihood')"
      ]
     },
     "execution_count": 186,
     "metadata": {},
     "output_type": "execute_result"
    },
    {
     "data": {
      "image/png": "[encoded data removed]",
      "text/plain": [
       "<matplotlib.figure.Figure at 0x1a194f3cf8>"
      ]
     },
     "metadata": {
      "image/png": {
       "height": 425,
       "width": 908
      }
     },
     "output_type": "display_data"
    }
   ],
   "source": [
    "plt.figure(figsize = (15,7))\n",
    "for i, model in enumerate(models):\n",
    "    plt.plot(list(range(2, len(model.likelihoods)+1)), model.likelihoods[1:], label='model {}'.format(i))\n",
    "    \n",
    "plt.legend()\n",
    "plt.grid(True)\n",
    "plt.xlabel('iteration')\n",
    "plt.ylabel('log joint likelihood')"
   ]
  },
  {
   "cell_type": "markdown",
   "metadata": {},
   "source": [
    "For each model, we evaluate its performance on the test set using RMSE."
   ]
  },
  {
   "cell_type": "code",
   "execution_count": 187,
   "metadata": {
    "ExecuteTime": {
     "end_time": "2018-04-07T04:16:45.084988Z",
     "start_time": "2018-04-07T04:16:43.295751Z"
    }
   },
   "outputs": [
    {
     "data": {
      "text/html": [
       "<div>\n",
       "<style>\n",
       "    .dataframe thead tr:only-child th {\n",
       "        text-align: right;\n",
       "    }\n",
       "\n",
       "    .dataframe thead th {\n",
       "        text-align: left;\n",
       "    }\n",
       "\n",
       "    .dataframe tbody tr th {\n",
       "        vertical-align: top;\n",
       "    }\n",
       "</style>\n",
       "<table border=\"1\" class=\"dataframe\">\n",
       "  <thead>\n",
       "    <tr style=\"text-align: right;\">\n",
       "      <th></th>\n",
       "      <th>objective</th>\n",
       "      <th>rmse</th>\n",
       "    </tr>\n",
       "  </thead>\n",
       "  <tbody>\n",
       "    <tr>\n",
       "      <th>7</th>\n",
       "      <td>-136591.986519</td>\n",
       "      <td>1.108886</td>\n",
       "    </tr>\n",
       "    <tr>\n",
       "      <th>0</th>\n",
       "      <td>-136592.909025</td>\n",
       "      <td>1.102305</td>\n",
       "    </tr>\n",
       "    <tr>\n",
       "      <th>1</th>\n",
       "      <td>-136652.005131</td>\n",
       "      <td>1.117883</td>\n",
       "    </tr>\n",
       "    <tr>\n",
       "      <th>9</th>\n",
       "      <td>-136658.650814</td>\n",
       "      <td>1.111010</td>\n",
       "    </tr>\n",
       "    <tr>\n",
       "      <th>5</th>\n",
       "      <td>-136693.414046</td>\n",
       "      <td>1.100956</td>\n",
       "    </tr>\n",
       "    <tr>\n",
       "      <th>4</th>\n",
       "      <td>-136723.469701</td>\n",
       "      <td>1.086885</td>\n",
       "    </tr>\n",
       "    <tr>\n",
       "      <th>2</th>\n",
       "      <td>-136750.638206</td>\n",
       "      <td>1.124118</td>\n",
       "    </tr>\n",
       "    <tr>\n",
       "      <th>8</th>\n",
       "      <td>-136838.399594</td>\n",
       "      <td>1.103811</td>\n",
       "    </tr>\n",
       "    <tr>\n",
       "      <th>6</th>\n",
       "      <td>-136872.128269</td>\n",
       "      <td>1.106308</td>\n",
       "    </tr>\n",
       "    <tr>\n",
       "      <th>3</th>\n",
       "      <td>-136946.702970</td>\n",
       "      <td>1.099346</td>\n",
       "    </tr>\n",
       "  </tbody>\n",
       "</table>\n",
       "</div>"
      ],
      "text/plain": [
       "       objective      rmse\n",
       "7 -136591.986519  1.108886\n",
       "0 -136592.909025  1.102305\n",
       "1 -136652.005131  1.117883\n",
       "9 -136658.650814  1.111010\n",
       "5 -136693.414046  1.100956\n",
       "4 -136723.469701  1.086885\n",
       "2 -136750.638206  1.124118\n",
       "8 -136838.399594  1.103811\n",
       "6 -136872.128269  1.106308\n",
       "3 -136946.702970  1.099346"
      ]
     },
     "execution_count": 187,
     "metadata": {},
     "output_type": "execute_result"
    }
   ],
   "source": [
    "final_likelihoods = [model.likelihoods[-1] for model in models]\n",
    "test_rmses = [rmse(df_test['rating'].values, model.predict(df_test)) for model in models]\n",
    "\n",
    "data = dict(objective=final_likelihoods, rmse=test_rmses)\n",
    "results_df = pd.DataFrame(data)\n",
    "results_df = results_df.sort_values(by = 'objective', ascending=False)\n",
    "best_model = models[int(results_df.head(1).index.values)]\n",
    "results_df"
   ]
  },
  {
   "cell_type": "markdown",
   "metadata": {},
   "source": [
    "Using the model with the best final objective value, we examine its learned latent vectors by finding the 10 most similar movies to \"Star Wars\", \"My Fair Lady\", and \"Goodfellas\". The results suggest the model has indeed learned a useful embedding of the films."
   ]
  },
  {
   "cell_type": "code",
   "execution_count": 197,
   "metadata": {
    "ExecuteTime": {
     "end_time": "2018-04-07T04:46:34.056735Z",
     "start_time": "2018-04-07T04:46:33.751978Z"
    }
   },
   "outputs": [
    {
     "name": "stdout",
     "output_type": "stream",
     "text": [
      "STAR WARS (1977)\n",
      "=====================\n",
      "                                                 item  distance\n",
      "1                     Empire Strikes Back, The (1980)  0.315338\n",
      "2                      Raiders of the Lost Ark (1981)  0.562862\n",
      "3                           Return of the Jedi (1983)  0.610612\n",
      "4                               Close Shave, A (1995)  0.840979\n",
      "5           Indiana Jones and the Last Crusade (1989)  0.848903\n",
      "6                               My Man Godfrey (1936)  0.997193\n",
      "7                          Usual Suspects, The (1995)  1.026034\n",
      "8                                   Sting, The (1973)  1.026902\n",
      "9               Day the Earth Stood Still, The (1951)  1.039953\n",
      "10  Wallace & Gromit: The Best of Aardman Animatio...  1.048119\n",
      "\n",
      "\n",
      "\n",
      "MY FAIR LADY (1964)\n",
      "=====================\n",
      "                                      item  distance\n",
      "1                      Mary Poppins (1964)  0.600331\n",
      "2               Sound of Music, The (1965)  0.670181\n",
      "3   Snow White and the Seven Dwarfs (1937)  0.701087\n",
      "4                           Sabrina (1954)  0.785698\n",
      "5                        Cinderella (1950)  0.901207\n",
      "6               Alice in Wonderland (1951)  0.906108\n",
      "7                         My Family (1995)  0.918934\n",
      "8                 Wizard of Oz, The (1939)  0.933138\n",
      "9                            Kundun (1997)  0.934901\n",
      "10            American in Paris, An (1951)  0.965292\n",
      "\n",
      "\n",
      "\n",
      "GOODFELLAS (1990)\n",
      "=====================\n",
      "                                      item  distance\n",
      "1                    Apocalypse Now (1979)  0.429711\n",
      "2                            Casino (1995)  0.674075\n",
      "3           Godfather: Part II, The (1974)  0.787601\n",
      "4                  Bonnie and Clyde (1967)  0.803570\n",
      "5   Good, The Bad and The Ugly, The (1966)  0.804497\n",
      "6                        Short Cuts (1993)  0.853242\n",
      "7      Once Upon a Time in the West (1969)  0.889787\n",
      "8                 Full Metal Jacket (1987)  0.945320\n",
      "9                            Psycho (1960)  0.953461\n",
      "10           Substance of Fire, The (1996)  0.982469\n",
      "\n",
      "\n",
      "\n"
     ]
    }
   ],
   "source": [
    "query_items = ['Star Wars (1977)', 'My Fair Lady (1964)', 'GoodFellas (1990)']\n",
    "\n",
    "for query in query_items:\n",
    "    query_index = map['movie2idx'][query]\n",
    "    print(query.upper())\n",
    "    print('=====================')\n",
    "    df = best_model.get_similar_items(query_index)\n",
    "    df['item'] = df['item'].apply(lambda x: map['idx2movie'][x])\n",
    "    df.index = df.index + 1\n",
    "    print(df)\n",
    "    print('\\n\\n')"
   ]
  }
 ],
 "metadata": {
  "kernelspec": {
   "display_name": "Python-3.6",
   "language": "python",
   "name": "python-3.6"
  },
  "language_info": {
   "codemirror_mode": {
    "name": "ipython",
    "version": 3
   },
   "file_extension": ".py",
   "mimetype": "text/x-python",
   "name": "python",
   "nbconvert_exporter": "python",
   "pygments_lexer": "ipython3",
   "version": "3.6.3"
  },
  "notify_time": "5",
  "varInspector": {
   "cols": {
    "lenName": 16,
    "lenType": 16,
    "lenVar": 40
   },
   "kernels_config": {
    "python": {
     "delete_cmd_postfix": "",
     "delete_cmd_prefix": "del ",
     "library": "var_list.py",
     "varRefreshCmd": "print(var_dic_list())"
    },
    "r": {
     "delete_cmd_postfix": ") ",
     "delete_cmd_prefix": "rm(",
     "library": "var_list.r",
     "varRefreshCmd": "cat(var_dic_list()) "
    }
   },
   "types_to_exclude": [
    "module",
    "function",
    "builtin_function_or_method",
    "instance",
    "_Feature"
   ],
   "window_display": false
  }
 },
 "nbformat": 4,
 "nbformat_minor": 2
}
